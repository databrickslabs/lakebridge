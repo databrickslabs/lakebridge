{
 "cells": [
  {
   "cell_type": "code",
   "execution_count": 3,
   "metadata": {},
   "outputs": [],
   "source": [
    "import os, pathlib, json, shutil\n",
    "\n",
    "notebooks_dir = pathlib.Path(os.getcwd())"
   ]
  },
  {
   "cell_type": "code",
   "execution_count": 6,
   "metadata": {},
   "outputs": [],
   "source": [
    "sample_extract = notebooks_dir / 'sample_extract'\n",
    "\n",
    "target_dir = notebooks_dir.parent / 'tsql/public-docs'\n",
    "syntax_dir = target_dir / 'syntax'\n",
    "query_dir = target_dir / 'queries'\n",
    "\n",
    "# shutil.rmtree(query_dir)\n",
    "# shutil.rmtree(syntax_dir)\n",
    "\n",
    "with (sample_extract / 'tsql-raw.json').open('r') as f:\n",
    "    examples = json.load(f)\n",
    "examples = sorted(examples, key=lambda _: f'{_.get(\"syntax\")}{_.get(\"example\")}')\n",
    "queries = []\n",
    "syntax = []\n",
    "for e in examples:\n",
    "    url = e['url']\n",
    "    if 'example' in e:\n",
    "        queries.append((url, e['example']))\n",
    "    if 'syntax' in e:\n",
    "        syntax.append((url, e['syntax']))\n",
    "\n",
    "for i, (url, example) in enumerate(syntax):\n",
    "    padded = f'{i:04}'\n",
    "    filename = syntax_dir / padded[0:2] / padded[0:3] / f'{padded}.md'\n",
    "    filename.parent.mkdir(0o755, True, True)\n",
    "    # print(f'SYNTAX:{example}')\n",
    "    with filename.open('w+') as f:\n",
    "        f.write(f'''See [{url}]({url})\n",
    "```\n",
    "{example}\n",
    "```\n",
    "''')\n",
    "\n",
    "for i, (url, example) in enumerate(queries):\n",
    "    padded = f'{i:04}'\n",
    "    filename = query_dir / padded[0:2] / padded[0:3] / f'{padded}.sql'\n",
    "    filename.parent.mkdir(0o755, True, True)\n",
    "    # print(f\"QUERY:\\n{example}\\n\")\n",
    "    with filename.open('w+') as f:\n",
    "        f.write(f\"-- see {url}\\n\\n{example}\")\n"
   ]
  }
 ],
 "metadata": {
  "kernelspec": {
   "display_name": "venv",
   "language": "python",
   "name": "python3"
  },
  "language_info": {
   "codemirror_mode": {
    "name": "ipython",
    "version": 3
   },
   "file_extension": ".py",
   "mimetype": "text/x-python",
   "name": "python",
   "nbconvert_exporter": "python",
   "pygments_lexer": "ipython3",
   "version": "3.10.12"
  }
 },
 "nbformat": 4,
 "nbformat_minor": 2
}
